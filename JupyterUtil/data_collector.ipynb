{
 "cells": [
  {
   "cell_type": "markdown",
   "metadata": {},
   "source": [
    "# 画像の収集\n",
    "1. ' TrainData ' 以下のフォルダに入る\n",
    "2. 任意のフォルダで ' googleimagesdownload -k _KEYWORD_ -l 5 ' を実行する\n",
    "\n",
    "    [参考ページ](https://co.bsnws.net/article/295)\n",
    "    "
   ]
  },
  {
   "cell_type": "markdown",
   "metadata": {},
   "source": [
    "## キーワードとDL数の設定"
   ]
  },
  {
   "cell_type": "code",
   "execution_count": 2,
   "metadata": {},
   "outputs": [
    {
     "name": "stdout",
     "output_type": "stream",
     "text": [
      "path: C:\\Users\\init\\Documents\\PythonScripts\\PredictEvaluationFromHumanPreference\\TrainData\\Photography\\Artificial\n",
      "keyword: salad\n",
      "dl_num: 3\n"
     ]
    }
   ],
   "source": [
    "from tkinter import Tk\n",
    "\n",
    "root = Tk()\n",
    "root.attributes('-topmost', True)\n",
    "root.withdraw()\n",
    "root.lift()\n",
    "root.focus_force()\n",
    "temp = askdirectory(title='画像を保存するフォルダを選択してください')\n",
    "root.destroy()\n",
    "\n",
    "if not temp:\n",
    "    print('フォルダが選択されませんでした')\n",
    "else:\n",
    "    from pathlib import Path\n",
    "    from tkinter.filedialog import askdirectory\n",
    "    \n",
    "    image_dir_path = Path(temp)\n",
    "\n",
    "    #　検索キーワードを設定\n",
    "    keyword = 'salad'\n",
    "    dl_num = 3\n",
    "    \n",
    "    print(f'path: {str(image_dir_path)}')\n",
    "    print(f'keyword: {keyword}')\n",
    "    print(f'dl_num: {dl_num}')"
   ]
  },
  {
   "cell_type": "markdown",
   "metadata": {},
   "source": [
    "## ダウンロード"
   ]
  },
  {
   "cell_type": "code",
   "execution_count": 15,
   "metadata": {},
   "outputs": [
    {
     "name": "stdout",
     "output_type": "stream",
     "text": [
      "C:\\Users\\init\\Documents\\PythonScripts\\PredictEvaluationFromHumanPreference\\TrainData\\Photography\\Artificial\n",
      "C:\\Users\\init\\Documents\\PythonScripts\\PredictEvaluationFromHumanPreference\\TrainData\\Photography\\Artificial\n",
      "\n",
      "Item no.: 1 --> Item name = salad\n",
      "Evaluating...\n",
      "Starting Download...\n",
      "Completed Image ====> 1.Greek-Salad.jpg\n",
      "Completed Image ====> 2.Everyday-Green-Salad-Recipe-3.jpg\n",
      "Completed Image ====> 3.exps6498_MRR133247D07_30_5b_WEB-2.jpg\n",
      "Completed Image ====> 4.avocado-salad-1524672116.png\n",
      "Completed Image ====> 5.quick-chopped-salad-recipe-photos-tablefortwoblog-3.jpg\n",
      "\n",
      "Errors: 0\n",
      "\n",
      "\n",
      "Everything downloaded!\n",
      "Total errors: 0\n",
      "Total time taken: 2.378906726837158 Seconds\n"
     ]
    }
   ],
   "source": [
    "%cd $str(image_dir_path)\n",
    "!googleimagesdownload -k $keyword -l $dl_num -o ./"
   ]
  },
  {
   "cell_type": "markdown",
   "metadata": {},
   "source": [
    "## 画像ごとにフォルダを作る"
   ]
  },
  {
   "cell_type": "code",
   "execution_count": 3,
   "metadata": {},
   "outputs": [
    {
     "name": "stdout",
     "output_type": "stream",
     "text": [
      "dl_path: C:\\Users\\init\\Documents\\PythonScripts\\PredictEvaluationFromHumanPreference\\TrainData\\Photography\\Artificial\\salad\n",
      "dl_num: 3\n",
      "-- complete! --\n"
     ]
    }
   ],
   "source": [
    "dl_path = str(image_dir_path/keyword)\n",
    "%run -i C:\\Users\\init\\Documents\\PythonScripts\\PredictEvaluationFromHumanPreference\\JupyterUtil\\image_folder_formatter\\main.py -p $dl_path -n $dl_num"
   ]
  },
  {
   "cell_type": "code",
   "execution_count": 6,
   "metadata": {},
   "outputs": [
    {
     "name": "stdout",
     "output_type": "stream",
     "text": [
      "path: C:\\Users\\init\\Documents\\PythonScripts\\PredictEvaluationFromHumanPreference\\TrainData\\Photography\\Artificial\n",
      "image:\n",
      "\tC:\\Users\\init\\Documents\\PythonScripts\\PredictEvaluationFromHumanPreference\\TrainData\\Photography\\Artificial\\salad\\1\\1.Greek-Salad.jpg\n",
      "\tC:\\Users\\init\\Documents\\PythonScripts\\PredictEvaluationFromHumanPreference\\TrainData\\Photography\\Artificial\\salad\\2\\2.Everyday-Green-Salad-Recipe-3.jpg\n",
      "\tC:\\Users\\init\\Documents\\PythonScripts\\PredictEvaluationFromHumanPreference\\TrainData\\Photography\\Artificial\\salad\\3\\3.exps6498_MRR133247D07_30_5b_WEB-2.jpg\n"
     ]
    }
   ],
   "source": [
    "from tkinter import Tk\n",
    "\n",
    "root = Tk()\n",
    "root.attributes('-topmost', True)\n",
    "root.withdraw()\n",
    "root.lift()\n",
    "root.focus_force()\n",
    "\n",
    "temp = askdirectory(title='作業フォルダを選択してください')\n",
    "root.destroy()\n",
    "\n",
    "if not temp:\n",
    "    print('フォルダが選択されませんでした')\n",
    "else:\n",
    "    from tkinter.filedialog import askdirectory\n",
    "    from pathlib import Path\n",
    "    import itertools\n",
    "    from pprint import pprint\n",
    "    \n",
    "    work_dir_path = Path(temp)\n",
    "    \n",
    "    work_image_path_list = [path for path in itertools.chain(work_dir_path.glob('**/*.png'), work_dir_path.glob('**/*.jpg'))]\n",
    "    \n",
    "    print(f'work path: {str(image_dir_path)}')\n",
    "    print('work images path:')\n",
    "    for path in work_image_path_list:\n",
    "        print(f'\\t{str(path)}')\n"
   ]
  },
  {
   "cell_type": "markdown",
   "metadata": {},
   "source": [
    "# 学習データを作る"
   ]
  },
  {
   "cell_type": "markdown",
   "metadata": {},
   "source": [
    "## スコアをつける\n",
    "1. ’ 1 ’の画像に対して100枚の補正画像を生成する\n",
    "2. ’ 2、3 ’の画像に対して10枚の補正画像を生成する"
   ]
  },
  {
   "cell_type": "code",
   "execution_count": 6,
   "metadata": {},
   "outputs": [
    {
     "name": "stdout",
     "output_type": "stream",
     "text": [
      "tournament complete\n"
     ]
    }
   ],
   "source": [
    "image_num_list = [100, 10, 10]\n",
    "for image_path, image_num in zip(work_image_path_list, image_num_list):\n",
    "    %run -i C:\\Users\\init\\Documents\\PythonScripts\\PredictEvaluationFromHumanPreference\\TrainDataGenerator\\tournament_comparer.py"
   ]
  },
  {
   "cell_type": "markdown",
   "metadata": {},
   "source": [
    "## スコアデータのグラフ化\n",
    "グラフは ' 研究成果/画像/_カテゴリ_/グラフ ' に保存する"
   ]
  },
  {
   "cell_type": "code",
   "execution_count": 3,
   "metadata": {},
   "outputs": [
    {
     "data": {
      "image/png": "[encoded data removed]",
      "text/plain": [
       "<matplotlib.figure.Figure at 0x27725ba9d68>"
      ]
     },
     "metadata": {},
     "output_type": "display_data"
    }
   ],
   "source": [
    "%matplotlib inline\n",
    "%run -i C:\\Users\\init\\Documents\\PythonScripts\\PredictEvaluationFromHumanPreference\\TrainDataGenerator\\param_score_graphizer.py"
   ]
  },
  {
   "cell_type": "markdown",
   "metadata": {},
   "source": [
    "### モデルタイプの選択"
   ]
  },
  {
   "cell_type": "code",
   "execution_count": 1,
   "metadata": {},
   "outputs": [],
   "source": [
    "model_type = 'compare'"
   ]
  },
  {
   "cell_type": "markdown",
   "metadata": {},
   "source": [
    "## スコアデータからTFRecords形式へ変換"
   ]
  },
  {
   "cell_type": "code",
   "execution_count": 3,
   "metadata": {},
   "outputs": [
    {
     "name": "stderr",
     "output_type": "stream",
     "text": [
      "100%|███████████████████████████████████████████████████████████████████████████████████████████████████████████████████████████████████████████████████████████████████████| 33/33 [00:00<00:00, 165.55it/s]\n"
     ]
    },
    {
     "name": "stdout",
     "output_type": "stream",
     "text": [
      "--- complete ! ---\n"
     ]
    }
   ],
   "source": [
    "%run -i C:\\Users\\init\\Documents\\PythonScripts\\PredictEvaluationFromHumanPreference\\TrainDataGenerator\\TFRecordsMaker\\ScoredParamConverter\\scored_param_converter.py $model_type"
   ]
  },
  {
   "cell_type": "markdown",
   "metadata": {},
   "source": [
    "# 好みの学習"
   ]
  },
  {
   "cell_type": "markdown",
   "metadata": {},
   "source": [
    "## 学習"
   ]
  },
  {
   "cell_type": "code",
   "execution_count": 2,
   "metadata": {},
   "outputs": [
    {
     "name": "stdout",
     "output_type": "stream",
     "text": [
      "--- train ---\n"
     ]
    },
    {
     "name": "stderr",
     "output_type": "stream",
     "text": [
      "epoch: 100%|█████████████████████████████████████████████████████████████████████████████████████████████████████████████████████████████████████████████████████████████████| 10/10 [01:12<00:00,  7.27s/it]\n"
     ]
    },
    {
     "name": "stdout",
     "output_type": "stream",
     "text": [
      "\n",
      "\n",
      "{'accuracy': 0.6473842,\n",
      " 'loss': 0.56919247,\n",
      " 'precision': 0.6094321,\n",
      " 'recall': 0.5397059}\n",
      "\n",
      "--- inference ---\n"
     ]
    },
    {
     "name": "stderr",
     "output_type": "stream",
     "text": [
      "batch: 7it [00:01,  6.93it/s, accuracy=0.63, recall=0.283, precision=0.96]  \n"
     ]
    },
    {
     "name": "stdout",
     "output_type": "stream",
     "text": [
      "\n",
      "{'accuracy': 0.62968516, 'precision': 0.96, 'recall': 0.28318584}\n",
      "\n",
      "--- complete ! ---\n"
     ]
    }
   ],
   "source": [
    "%run -i C:\\Users\\init\\Documents\\PythonScripts\\PredictEvaluationFromHumanPreference\\UserPreferencePredictor\\predictor_trainer.py $model_type --jupyter"
   ]
  },
  {
   "cell_type": "markdown",
   "metadata": {},
   "source": [
    "## 評価値高い順に並び替え\n",
    "1. 既知画像に対する出力を ' 研究成果/画像/_カテゴリ_/評価値とスコアの比較/既知 ' に保存する\n",
    "2. 未知画像に対する出力を ' 研究成果/画像/_カテゴリ_/評価値とスコアの比較/未知_i ' に保存する"
   ]
  },
  {
   "cell_type": "code",
   "execution_count": 8,
   "metadata": {},
   "outputs": [
    {
     "name": "stdout",
     "output_type": "stream",
     "text": [
      "INFO:tensorflow:Restoring parameters from C:\\Users\\init\\Documents\\PythonScripts\\PredictEvaluationFromHumanPreference\\TrainData\\Photography\\Artificial\\salad\\1\\Compare\\summary\\0618\\1521\\save\n"
     ]
    }
   ],
   "source": [
    "%run -i C:\\Users\\init\\Documents\\PythonScripts\\PredictEvaluationFromHumanPreference\\UserPreferencePredictor\\evaluate_visualizer.py $model_type"
   ]
  },
  {
   "cell_type": "markdown",
   "metadata": {},
   "source": [
    "# 最適化\n",
    "1. 既知画像に対する出力を ' 研究成果/画像/_カテゴリ_/最適化/既知 ' に保存する\n",
    "2. 未知画像に対する ' 研究成果/画像/_カテゴリ_/最適化/未知_i ' に保存する"
   ]
  },
  {
   "cell_type": "code",
   "execution_count": 10,
   "metadata": {},
   "outputs": [
    {
     "name": "stdout",
     "output_type": "stream",
     "text": [
      "INFO:tensorflow:Restoring parameters from C:\\Users\\init\\Documents\\PythonScripts\\PredictEvaluationFromHumanPreference\\TrainData\\Photography\\Artificial\\salad\\1\\Compare\\summary\\0618\\1521\\save\n"
     ]
    },
    {
     "name": "stderr",
     "output_type": "stream",
     "text": [
      "C:\\Anaconda3\\envs\\UnityML\\lib\\site-packages\\deap\\creator.py:141: RuntimeWarning: A class named 'FitnessMax' has already been created and it will be overwritten. Consider deleting previous creation of that class or rename it.\n",
      "  RuntimeWarning)\n",
      "C:\\Anaconda3\\envs\\UnityML\\lib\\site-packages\\deap\\creator.py:141: RuntimeWarning: A class named 'Individual' has already been created and it will be overwritten. Consider deleting previous creation of that class or rename it.\n",
      "  RuntimeWarning)\n"
     ]
    },
    {
     "name": "stdout",
     "output_type": "stream",
     "text": [
      "gen\tnevals\tavg    \tstd    \tmin     \tmax    \n",
      "0  \t30    \t0.38206\t0.77649\t-1.28197\t1.92031\n",
      "1  \t19    \t0.928818\t0.513182\t-0.0270597\t1.92031\n",
      "2  \t17    \t1.15031 \t0.598538\t-0.681955 \t1.92031\n",
      "3  \t19    \t1.35442 \t0.522524\t-0.454905 \t2.15773\n",
      "4  \t16    \t1.75041 \t0.350841\t0.884286  \t2.2444 \n",
      "5  \t15    \t1.87168 \t0.356067\t0.9466    \t2.27707\n",
      "6  \t20    \t1.85557 \t0.387683\t0.964509  \t2.63557\n",
      "7  \t23    \t1.97694 \t0.268373\t1.1874    \t2.55267\n",
      "8  \t25    \t2.0264  \t0.35519 \t1.0154    \t2.58795\n",
      "9  \t20    \t2.02983 \t0.453296\t0.913227  \t2.86195\n",
      "10 \t16    \t2.20045 \t0.320929\t1.14621   \t2.86195\n",
      "[{'brightness': 1.1478494002774178, 'saturation': 1.3820145989064754, 'contrast': 1.4803336554865139, 'sharpness': 1.021245554722713}, {'brightness': 1.1478482081844867, 'saturation': 1.397637692023447, 'contrast': 0.952928854612376, 'sharpness': 1.0212446010483682}, {'brightness': 1.1468996598392622, 'saturation': 1.3818925285903374, 'contrast': 1.4803334170679276, 'sharpness': 1.0210014438927604}, {'brightness': 1.0218729532323167, 'saturation': 1.3820181751852685, 'contrast': 1.4803335958818673, 'sharpness': 1.2217303133526538}]\n"
     ]
    }
   ],
   "source": [
    "%run -i C:\\Users\\init\\Documents\\PythonScripts\\PredictEvaluationFromHumanPreference\\ParameterOptimizer\\parameter_optimizer.py $model_type"
   ]
  },
  {
   "cell_type": "code",
   "execution_count": null,
   "metadata": {},
   "outputs": [],
   "source": []
  }
 ],
 "metadata": {
  "file_extension": ".py",
  "kernelspec": {
   "display_name": "Python 3",
   "language": "python",
   "name": "python3"
  },
  "mimetype": "text/x-python",
  "name": "python",
  "npconvert_exporter": "python",
  "pygments_lexer": "ipython3",
  "version": 3
 },
 "nbformat": 4,
 "nbformat_minor": 2
}
