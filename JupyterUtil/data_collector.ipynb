{
 "cells": [
  {
   "cell_type": "markdown",
   "metadata": {},
   "source": [
    "# 画像の収集\n",
    "1. ' TrainData ' 以下のフォルダに入る\n",
    "2. 任意のフォルダで ' googleimagesdownload -k _KEYWORD_ -l 5 ' を実行する\n",
    "\n",
    "    [参考ページ](https://co.bsnws.net/article/295)\n",
    "    "
   ]
  },
  {
   "cell_type": "markdown",
   "metadata": {},
   "source": [
    "## キーワードとDL数の設定\n",
    "キーワードの設定\n",
    "dl数の設定"
   ]
  },
  {
   "cell_type": "code",
   "execution_count": 4,
   "metadata": {},
   "outputs": [
    {
     "name": "stdout",
     "output_type": "stream",
     "text": [
      "path: C:\\Users\\init\\Documents\\PythonScripts\\EnhanceImageFromUserPreference\\TrainData\\Illust\n",
      "keyword: モネ\n",
      "dl_num: 3\n"
     ]
    }
   ],
   "source": [
    "def set_key_and_dl_num():\n",
    "    from tkinter import Tk, filedialog\n",
    "\n",
    "    root = Tk()\n",
    "    root.attributes('-topmost', True)\n",
    "    root.withdraw()\n",
    "    root.lift()\n",
    "    root.focus_force()\n",
    "    temp = filedialog.askdirectory(title='画像を保存するフォルダを選択してください')\n",
    "    root.destroy()\n",
    "\n",
    "    if not temp:\n",
    "        print('フォルダが選択されませんでした')\n",
    "    else:\n",
    "        from pathlib import Path\n",
    "        from tkinter.filedialog import askdirectory\n",
    "        \n",
    "        global download_dir_path\n",
    "        download_dir_path = Path(temp)\n",
    "\n",
    "        #　検索キーワードを設定\n",
    "        global keyword\n",
    "        keyword = 'モネ'\n",
    "        \n",
    "         #　dl数を設定\n",
    "        global dl_num\n",
    "        dl_num = 3\n",
    "\n",
    "        print(f'path: {download_dir_path}')\n",
    "        print(f'keyword: {keyword}')\n",
    "        print(f'dl_num: {dl_num}')\n",
    "        \n",
    "set_key_and_dl_num()"
   ]
  },
  {
   "cell_type": "markdown",
   "metadata": {},
   "source": [
    "## ダウンロード"
   ]
  },
  {
   "cell_type": "code",
   "execution_count": 5,
   "metadata": {},
   "outputs": [
    {
     "name": "stdout",
     "output_type": "stream",
     "text": [
      "\n",
      "Item no.: 1 --> Item name = \\u30e2\\u30cd\n",
      "Evaluating...\n",
      "Starting Download...\n",
      "Completed Image ====> 1.A1T1PLop9qL.jpg\n",
      "Completed Image ====> 2.monet-main.jpg\n",
      "Completed Image ====> 3.000000001420.jpg\n",
      "\n",
      "Errors: 0\n",
      "\n",
      "\n",
      "Everything downloaded!\n",
      "Total errors: 0\n",
      "Total time taken: 3.000023365020752 Seconds\n"
     ]
    }
   ],
   "source": [
    "def download():\n",
    "    dl_dir_path = str(download_dir_path)\n",
    "    !googleimagesdownload -k $keyword -l $dl_num -o $dl_dir_path\n",
    "\n",
    "download()"
   ]
  },
  {
   "cell_type": "markdown",
   "metadata": {},
   "source": [
    "## 画像ごとにフォルダを作る"
   ]
  },
  {
   "cell_type": "code",
   "execution_count": 6,
   "metadata": {},
   "outputs": [
    {
     "name": "stdout",
     "output_type": "stream",
     "text": [
      "dl_path: C:\\Users\\init\\Documents\\PythonScripts\\EnhanceImageFromUserPreference\\TrainData\\Illust\\モネ\n",
      "dl_num: 3\n",
      "-- complete! --\n"
     ]
    }
   ],
   "source": [
    "def format_dir():\n",
    "    dl_path = str(download_dir_path/keyword)\n",
    "    %run -i C:\\Users\\init\\Documents\\PythonScripts\\EnhanceImageFromUserPreference\\JupyterUtil\\image_folder_formatter\\main.py -p $dl_path -n $dl_num\n",
    "        \n",
    "format_dir()"
   ]
  },
  {
   "cell_type": "code",
   "execution_count": null,
   "metadata": {},
   "outputs": [],
   "source": []
  },
  {
   "cell_type": "markdown",
   "metadata": {},
   "source": [
    "# 作業フォルダの選択"
   ]
  },
  {
   "cell_type": "code",
   "execution_count": 7,
   "metadata": {},
   "outputs": [
    {
     "name": "stdout",
     "output_type": "stream",
     "text": [
      "work path: C:\\Users\\init\\Documents\\PythonScripts\\EnhanceImageFromUserPreference\\TrainData\\Illust\\モネ\n",
      "work images path:\n",
      "\tC:\\Users\\init\\Documents\\PythonScripts\\EnhanceImageFromUserPreference\\TrainData\\Illust\\モネ\\1\\1.A1T1PLop9qL.jpg\n",
      "\tC:\\Users\\init\\Documents\\PythonScripts\\EnhanceImageFromUserPreference\\TrainData\\Illust\\モネ\\2\\2.monet-main.jpg\n",
      "\tC:\\Users\\init\\Documents\\PythonScripts\\EnhanceImageFromUserPreference\\TrainData\\Illust\\モネ\\3\\3.000000001420.jpg\n"
     ]
    }
   ],
   "source": [
    "def select_work_dir():\n",
    "    from tkinter import Tk, filedialog \n",
    "\n",
    "    root = Tk()\n",
    "    root.attributes('-topmost', True)\n",
    "    root.withdraw()\n",
    "    root.lift()\n",
    "    root.focus_force()\n",
    "\n",
    "    initialdir = 'C:/Users/init/Documents/PythonScripts/EnhanceImageFromUserPreference/TrainData'\n",
    "    temp = filedialog.askdirectory(title='作業フォルダを選択してください', initialdir=initialdir)\n",
    "    root.destroy()\n",
    "\n",
    "    if not temp:\n",
    "        print('フォルダが選択されませんでした')\n",
    "    else:\n",
    "        from tkinter.filedialog import askdirectory\n",
    "        from pathlib import Path\n",
    "        import itertools\n",
    "        from pprint import pprint\n",
    "\n",
    "        global work_dir_path \n",
    "        work_dir_path = Path(temp)\n",
    "\n",
    "        global work_image_path_list \n",
    "        work_image_path_list = [path for path in itertools.chain(work_dir_path.glob('**/*.png'), work_dir_path.glob('**/*.jpg'))]\n",
    "        work_image_path_list.sort()\n",
    "        \n",
    "select_work_dir()\n",
    "\n",
    "print(f'work path: {str(work_dir_path)}')\n",
    "print('work images path:')\n",
    "for path in work_image_path_list:\n",
    "    print(f'\\t{str(path)}')"
   ]
  },
  {
   "cell_type": "markdown",
   "metadata": {},
   "source": [
    "# モデルタイプの選択"
   ]
  },
  {
   "cell_type": "code",
   "execution_count": 8,
   "metadata": {},
   "outputs": [
    {
     "name": "stdout",
     "output_type": "stream",
     "text": [
      "model type: compare\n"
     ]
    }
   ],
   "source": [
    "model_type = 'compare'\n",
    "print(f'model type: {model_type}')"
   ]
  },
  {
   "cell_type": "markdown",
   "metadata": {},
   "source": [
    "# 学習データを作る"
   ]
  },
  {
   "cell_type": "markdown",
   "metadata": {},
   "source": [
    "## スコアをつける\n",
    "1. ’ 1 ’の画像に対して100枚の補正画像を生成する\n",
    "2. ’ 1、2、3 ’の画像に対して10枚の補正画像を生成する"
   ]
  },
  {
   "cell_type": "code",
   "execution_count": 10,
   "metadata": {},
   "outputs": [
    {
     "name": "stdout",
     "output_type": "stream",
     "text": [
      "image_path: C:\\Users\\init\\Documents\\PythonScripts\\EnhanceImageFromUserPreference\\TrainData\\Illust\\モネ\\1\\1.A1T1PLop9qL.jpg\n",
      "save_file_path: C:\\Users\\init\\Documents\\PythonScripts\\EnhanceImageFromUserPreference\\TrainData\\Illust\\モネ\\1\\scored_parameter\\data.csv\n",
      "generate_num: 100\n",
      "image_path: C:\\Users\\init\\Documents\\PythonScripts\\EnhanceImageFromUserPreference\\TrainData\\Illust\\モネ\\1\\1.A1T1PLop9qL.jpg\n",
      "save_file_path: C:\\Users\\init\\Documents\\PythonScripts\\EnhanceImageFromUserPreference\\TrainData\\Illust\\モネ\\1\\scored_parameter\\test.csv\n",
      "generate_num: 10\n"
     ]
    },
    {
     "name": "stderr",
     "output_type": "stream",
     "text": [
      "ERROR:root:File `\"'C:\\\\Users\\\\init\\\\Documents\\\\PythonScripts\\\\EnhanceImageFromUserPreference\\\\TrainDataGenerator\\\\tournament\\\\tournament_comparer.py'.py\"` not found.\n"
     ]
    },
    {
     "name": "stdout",
     "output_type": "stream",
     "text": [
      "image_path: C:\\Users\\init\\Documents\\PythonScripts\\EnhanceImageFromUserPreference\\TrainData\\Illust\\モネ\\3\\3.000000001420.jpg\n",
      "save_file_path: C:\\Users\\init\\Documents\\PythonScripts\\EnhanceImageFromUserPreference\\TrainData\\Illust\\モネ\\3\\scored_parameter\\test.csv\n",
      "generate_num: 10\n",
      "--- complete ! ---\n"
     ]
    }
   ],
   "source": [
    "def scoring():\n",
    "    known_image_path = work_image_path_list[0]\n",
    "    save_file_path = str(known_image_path.parent/'scored_parameter'/'data.csv')\n",
    "    known_image_path = str(known_image_path)\n",
    "    %run -i C:\\Users\\init\\Documents\\PythonScripts\\EnhanceImageFromUserPreference\\TrainDataGenerator\\tournament\\tournament_comparer.py -p $known_image_path -n 100 -s $save_file_path\n",
    "\n",
    "    for image_path in work_image_path_list:\n",
    "        save_file_path = str(image_path.parent/'scored_parameter'/'test.csv')\n",
    "        %run -i C:\\Users\\init\\Documents\\PythonScripts\\EnhanceImageFromUserPreference\\TrainDataGenerator\\tournament\\tournament_comparer.py -p $image_path -n 10 -s $save_file_path\n",
    "\n",
    "scoring()\n",
    "print('--- complete ! ---')"
   ]
  },
  {
   "cell_type": "markdown",
   "metadata": {},
   "source": [
    "## スコアデータのグラフ化\n",
    "グラフは ' 研究成果/画像/_カテゴリ_/グラフ ' に保存する"
   ]
  },
  {
   "cell_type": "code",
   "execution_count": 1,
   "metadata": {},
   "outputs": [
    {
     "name": "stdout",
     "output_type": "stream",
     "text": [
      "param_paths: ['C:/Users/init/Documents/PythonScripts/PredictEvaluationFromHumanPreference/TrainData/Photography/Artificial/salad/1/scored_parameter/data1.csv']\n",
      "graph_type: scatter\n"
     ]
    },
    {
     "data": {
      "image/png": "[encoded data removed]",
      "text/plain": [
       "<matplotlib.figure.Figure at 0x29d87e25c50>"
      ]
     },
     "metadata": {},
     "output_type": "display_data"
    }
   ],
   "source": [
    "%matplotlib inline\n",
    "from tkinter import Tk, filedialog\n",
    "root = Tk()\n",
    "root.attributes('-topmost', True)\n",
    "root.withdraw()\n",
    "root.lift()\n",
    "root.focus_force()\n",
    "\n",
    "temp = filedialog.askopenfilenames(title='パラメータファイルの選択', filetypes=[('', '.csv')])\n",
    "root.destroy()\n",
    "\n",
    "if not temp:\n",
    "     print('ファイルが選択されませんでした')\n",
    "else:\n",
    "    param_path = ' '.join(temp)\n",
    "    %run -i C:\\Users\\init\\Documents\\PythonScripts\\PredictEvaluationFromHumanPreference\\TrainDataGenerator\\param_score_graphizer.py -p $param_path -g scatter"
   ]
  },
  {
   "cell_type": "markdown",
   "metadata": {},
   "source": [
    "## スコアデータからTFRecords形式へ変換\n",
    "保存先のデータセットフォルダ名を設定"
   ]
  },
  {
   "cell_type": "code",
   "execution_count": 13,
   "metadata": {},
   "outputs": [
    {
     "name": "stdout",
     "output_type": "stream",
     "text": [
      "C:/Users/init/Documents/PythonScripts/EnhanceImageFromUserPreference/TrainData/Illust/モネ/1/scored_parameter/data.csv\n",
      "dataset_dir_path: C:\\Users\\init\\Documents\\PythonScripts\\EnhanceImageFromUserPreference\\TrainData\\Illust\\モネ\\1\\compare\\tfrecords\\data1\n",
      "param_paths: ['C:/Users/init/Documents/PythonScripts/EnhanceImageFromUserPreference/TrainData/Illust/モネ/1/scored_parameter/data.csv']\n",
      "image_path: C:\\Users\\init\\Documents\\PythonScripts\\EnhanceImageFromUserPreference\\TrainData\\Illust\\モネ\\1\\1.A1T1PLop9qL.jpg\n",
      "model_type: compare\n"
     ]
    },
    {
     "name": "stderr",
     "output_type": "stream",
     "text": [
      "WARNING:tensorflow:From C:\\Users\\init\\Documents\\PythonScripts\\EnhanceImageFromUserPreference\\TrainDataGenerator\\TFRecordsMaker\\switchable_writer.py:11: The name tf.python_io.TFRecordWriter is deprecated. Please use tf.io.TFRecordWriter instead.\n",
      "\n",
      "100%|███████████████████████████████████████████████████████████████████████████████████████████████████████████████████████████████████████████████████████████████████| 2033/2033 [00:04<00:00, 453.74it/s]\n"
     ]
    },
    {
     "name": "stdout",
     "output_type": "stream",
     "text": [
      "--- complete ! ---\n"
     ]
    }
   ],
   "source": [
    "def convert():\n",
    "    from tkinter import Tk, filedialog\n",
    "    image_path = work_image_path_list[0]\n",
    "    \n",
    "    #　保存先のデータセットフォルダ名を設定\n",
    "    dataset_name = 'data1'\n",
    "    dataset_dir_path = image_path.parent/model_type/'tfrecords'/dataset_name\n",
    "    if not dataset_dir_path.exists():\n",
    "        dataset_dir_path.mkdir(parents=True)\n",
    "    \n",
    "    root = Tk()\n",
    "    root.attributes('-topmost', True)\n",
    "    root.withdraw()\n",
    "    root.lift()\n",
    "    root.focus_force()\n",
    "    \n",
    "    initialdir = str(image_path.parent/'scored_parameter')\n",
    "    temp = filedialog.askopenfilenames(title='パラメータファイルの選択', filetypes=[('', '.csv')], initialdir=initialdir)\n",
    "    root.destroy()\n",
    "\n",
    "    if not temp:\n",
    "         print('ファイルが選択されませんでした')\n",
    "    else:\n",
    "        param_paths = ' '.join(temp)\n",
    "        print(param_paths)\n",
    "        dataset_dir_path = str(dataset_dir_path)\n",
    "        \n",
    "        %run -i C:\\Users\\init\\Documents\\PythonScripts\\EnhanceImageFromUserPreference\\TrainDataGenerator\\TFRecordsMaker\\ScoredParamConverter\\scored_param_converter.py \\\n",
    "            -d $dataset_dir_path -p $param_paths -i $image_path -t $model_type\n",
    "\n",
    "convert()"
   ]
  },
  {
   "cell_type": "markdown",
   "metadata": {},
   "source": [
    "# 好みの学習"
   ]
  },
  {
   "cell_type": "markdown",
   "metadata": {},
   "source": [
    "## モデル読み込み関数の定義"
   ]
  },
  {
   "cell_type": "code",
   "execution_count": 14,
   "metadata": {},
   "outputs": [],
   "source": [
    "def get_load_dir_path():\n",
    "    from tkinter import Tk, filedialog\n",
    "    root = Tk()\n",
    "    root.attributes('-topmost', True)\n",
    "    root.withdraw()\n",
    "    root.lift()\n",
    "    root.focus_force()\n",
    "    \n",
    "    train_dir_path = work_image_path_list[0].parent/model_type\n",
    "    summary_dir_path = train_dir_path/'summary'\n",
    "    \n",
    "    initialdir = str(summary_dir_path)\n",
    "    load_dir_path = filedialog.askdirectory(title='モデルをロードするフォルダを選択')\n",
    "    root.destroy()\n",
    "    \n",
    "    return load_dir_path"
   ]
  },
  {
   "cell_type": "markdown",
   "metadata": {},
   "source": [
    "## 学習\n",
    "使用するデータセットの設定"
   ]
  },
  {
   "cell_type": "code",
   "execution_count": 21,
   "metadata": {},
   "outputs": [
    {
     "name": "stdout",
     "output_type": "stream",
     "text": [
      "dataset_dir_path: C:\\Users\\init\\Documents\\PythonScripts\\EnhanceImageFromUserPreference\\TrainData\\Illust\\モネ\\1\\compare\\tfrecords\\data1\n",
      "summary_dir_path: C:\\Users\\init\\Documents\\PythonScripts\\EnhanceImageFromUserPreference\\TrainData\\Illust\\モネ\\1\\compare\\summary\n",
      "load_dir_path: None\n",
      "model_type: compare\n",
      "use_jupyter: True\n",
      "Epoch 1/10\n",
      "29/30 [============================>.] - ETA: 18s - loss: 0.70 - ETA: 13s - loss: 0.59 - ETA: 10s - loss: 0.53 - ETA: 9s - loss: 0.4857 - ETA: 8s - loss: 0.426 - ETA: 7s - loss: 0.378 - ETA: 6s - loss: 0.347 - ETA: 6s - loss: 0.329 - ETA: 6s - loss: 0.331 - ETA: 5s - loss: 0.329 - ETA: 5s - loss: 0.350 - ETA: 4s - loss: 0.359 - ETA: 4s - loss: 0.361 - ETA: 4s - loss: 0.363 - ETA: 3s - loss: 0.355 - ETA: 3s - loss: 0.370 - ETA: 3s - loss: 0.368 - ETA: 2s - loss: 0.367 - ETA: 2s - loss: 0.367 - ETA: 2s - loss: 0.360 - ETA: 2s - loss: 0.351 - ETA: 1s - loss: 0.343 - ETA: 1s - loss: 0.336 - ETA: 1s - loss: 0.335 - ETA: 1s - loss: 0.336 - ETA: 0s - loss: 0.347 - ETA: 0s - loss: 0.345 - ETA: 0s - loss: 0.344 - ETA: 0s - loss: 0.3439"
     ]
    },
    {
     "ename": "InvalidArgumentError",
     "evalue": "You must feed a value for placeholder tensor 'predict_model_2/input_6' with dtype float and shape [?,32,32,3]\n\t [[{{node predict_model_2/input_6}}]]",
     "output_type": "error",
     "traceback": [
      "\u001b[1;31m---------------------------------------------------------------------------\u001b[0m",
      "\u001b[1;31mInvalidArgumentError\u001b[0m                      Traceback (most recent call last)",
      "\u001b[1;32m~\\Documents\\PythonScripts\\EnhanceImageFromUserPreference\\UserPreferencePredictor\\predictor_trainer.py\u001b[0m in \u001b[0;36m<module>\u001b[1;34m()\u001b[0m\n\u001b[0;32m     61\u001b[0m \u001b[1;33m\u001b[0m\u001b[0m\n\u001b[0;32m     62\u001b[0m     trainable_model.train(dataset[TRAIN], log_dir_path=log_dir_path,\n\u001b[1;32m---> 63\u001b[1;33m                           valid_dataset=dataset[VALIDATION])\n\u001b[0m\u001b[0;32m     64\u001b[0m \u001b[1;33m\u001b[0m\u001b[0m\n\u001b[0;32m     65\u001b[0m     \u001b[0mtrainable_model\u001b[0m\u001b[1;33m.\u001b[0m\u001b[0msave\u001b[0m\u001b[1;33m(\u001b[0m\u001b[0mlog_dir_path\u001b[0m\u001b[1;33m)\u001b[0m\u001b[1;33m\u001b[0m\u001b[0m\n",
      "\u001b[1;32m~\\Documents\\PythonScripts\\EnhanceImageFromUserPreference\\UserPreferencePredictor\\Model\\Compare\\ranknet.py\u001b[0m in \u001b[0;36mtrain\u001b[1;34m(self, dataset, log_dir_path, valid_dataset)\u001b[0m\n\u001b[0;32m     58\u001b[0m         self.trainable_model.fit(dataset, epochs=epochs,\n\u001b[0;32m     59\u001b[0m                                  \u001b[0msteps_per_epoch\u001b[0m\u001b[1;33m=\u001b[0m\u001b[0msteps_per_epoch\u001b[0m\u001b[1;33m,\u001b[0m\u001b[1;33m\u001b[0m\u001b[0m\n\u001b[1;32m---> 60\u001b[1;33m                                  \u001b[0mcallbacks\u001b[0m\u001b[1;33m=\u001b[0m\u001b[0mcb\u001b[0m\u001b[1;33m,\u001b[0m \u001b[0mvalidation_data\u001b[0m\u001b[1;33m=\u001b[0m\u001b[0mvalid_dataset\u001b[0m\u001b[1;33m,\u001b[0m\u001b[1;33m\u001b[0m\u001b[0m\n\u001b[0m\u001b[0;32m     61\u001b[0m                                  validation_steps=10)\n\u001b[0;32m     62\u001b[0m \u001b[1;33m\u001b[0m\u001b[0m\n",
      "\u001b[1;32mC:\\Anaconda3\\envs\\UnityML\\lib\\site-packages\\tensorflow\\python\\keras\\engine\\training.py\u001b[0m in \u001b[0;36mfit\u001b[1;34m(self, x, y, batch_size, epochs, verbose, callbacks, validation_split, validation_data, shuffle, class_weight, sample_weight, initial_epoch, steps_per_epoch, validation_steps, validation_freq, max_queue_size, workers, use_multiprocessing, **kwargs)\u001b[0m\n\u001b[0;32m    778\u001b[0m           \u001b[0mvalidation_steps\u001b[0m\u001b[1;33m=\u001b[0m\u001b[0mvalidation_steps\u001b[0m\u001b[1;33m,\u001b[0m\u001b[1;33m\u001b[0m\u001b[0m\n\u001b[0;32m    779\u001b[0m           \u001b[0mvalidation_freq\u001b[0m\u001b[1;33m=\u001b[0m\u001b[0mvalidation_freq\u001b[0m\u001b[1;33m,\u001b[0m\u001b[1;33m\u001b[0m\u001b[0m\n\u001b[1;32m--> 780\u001b[1;33m           steps_name='steps_per_epoch')\n\u001b[0m\u001b[0;32m    781\u001b[0m \u001b[1;33m\u001b[0m\u001b[0m\n\u001b[0;32m    782\u001b[0m   def evaluate(self,\n",
      "\u001b[1;32mC:\\Anaconda3\\envs\\UnityML\\lib\\site-packages\\tensorflow\\python\\keras\\engine\\training_arrays.py\u001b[0m in \u001b[0;36mmodel_iteration\u001b[1;34m(model, inputs, targets, sample_weights, batch_size, epochs, verbose, callbacks, val_inputs, val_targets, val_sample_weights, shuffle, initial_epoch, steps_per_epoch, validation_steps, validation_freq, mode, validation_in_fit, prepared_feed_values_from_dataset, steps_name, **kwargs)\u001b[0m\n\u001b[0;32m    407\u001b[0m           \u001b[0mvalidation_in_fit\u001b[0m\u001b[1;33m=\u001b[0m\u001b[1;32mTrue\u001b[0m\u001b[1;33m,\u001b[0m\u001b[1;33m\u001b[0m\u001b[0m\n\u001b[0;32m    408\u001b[0m           \u001b[0mprepared_feed_values_from_dataset\u001b[0m\u001b[1;33m=\u001b[0m\u001b[1;33m(\u001b[0m\u001b[0mval_iterator\u001b[0m \u001b[1;32mis\u001b[0m \u001b[1;32mnot\u001b[0m \u001b[1;32mNone\u001b[0m\u001b[1;33m)\u001b[0m\u001b[1;33m,\u001b[0m\u001b[1;33m\u001b[0m\u001b[0m\n\u001b[1;32m--> 409\u001b[1;33m           steps_name='validation_steps')\n\u001b[0m\u001b[0;32m    410\u001b[0m       \u001b[1;32mif\u001b[0m \u001b[1;32mnot\u001b[0m \u001b[0misinstance\u001b[0m\u001b[1;33m(\u001b[0m\u001b[0mval_results\u001b[0m\u001b[1;33m,\u001b[0m \u001b[0mlist\u001b[0m\u001b[1;33m)\u001b[0m\u001b[1;33m:\u001b[0m\u001b[1;33m\u001b[0m\u001b[0m\n\u001b[0;32m    411\u001b[0m         \u001b[0mval_results\u001b[0m \u001b[1;33m=\u001b[0m \u001b[1;33m[\u001b[0m\u001b[0mval_results\u001b[0m\u001b[1;33m]\u001b[0m\u001b[1;33m\u001b[0m\u001b[0m\n",
      "\u001b[1;32mC:\\Anaconda3\\envs\\UnityML\\lib\\site-packages\\tensorflow\\python\\keras\\engine\\training_arrays.py\u001b[0m in \u001b[0;36mmodel_iteration\u001b[1;34m(model, inputs, targets, sample_weights, batch_size, epochs, verbose, callbacks, val_inputs, val_targets, val_sample_weights, shuffle, initial_epoch, steps_per_epoch, validation_steps, validation_freq, mode, validation_in_fit, prepared_feed_values_from_dataset, steps_name, **kwargs)\u001b[0m\n\u001b[0;32m    272\u001b[0m           \u001b[1;31m# `ins` can be callable in tf.distribute.Strategy + eager case.\u001b[0m\u001b[1;33m\u001b[0m\u001b[1;33m\u001b[0m\u001b[0m\n\u001b[0;32m    273\u001b[0m           \u001b[0mactual_inputs\u001b[0m \u001b[1;33m=\u001b[0m \u001b[0mins\u001b[0m\u001b[1;33m(\u001b[0m\u001b[1;33m)\u001b[0m \u001b[1;32mif\u001b[0m \u001b[0mcallable\u001b[0m\u001b[1;33m(\u001b[0m\u001b[0mins\u001b[0m\u001b[1;33m)\u001b[0m \u001b[1;32melse\u001b[0m \u001b[0mins\u001b[0m\u001b[1;33m\u001b[0m\u001b[0m\n\u001b[1;32m--> 274\u001b[1;33m           \u001b[0mbatch_outs\u001b[0m \u001b[1;33m=\u001b[0m \u001b[0mf\u001b[0m\u001b[1;33m(\u001b[0m\u001b[0mactual_inputs\u001b[0m\u001b[1;33m)\u001b[0m\u001b[1;33m\u001b[0m\u001b[0m\n\u001b[0m\u001b[0;32m    275\u001b[0m         \u001b[1;32mexcept\u001b[0m \u001b[0merrors\u001b[0m\u001b[1;33m.\u001b[0m\u001b[0mOutOfRangeError\u001b[0m\u001b[1;33m:\u001b[0m\u001b[1;33m\u001b[0m\u001b[0m\n\u001b[0;32m    276\u001b[0m           \u001b[1;32mif\u001b[0m \u001b[0mis_dataset\u001b[0m\u001b[1;33m:\u001b[0m\u001b[1;33m\u001b[0m\u001b[0m\n",
      "\u001b[1;32mC:\\Anaconda3\\envs\\UnityML\\lib\\site-packages\\tensorflow\\python\\keras\\backend.py\u001b[0m in \u001b[0;36m__call__\u001b[1;34m(self, inputs)\u001b[0m\n\u001b[0;32m   3290\u001b[0m \u001b[1;33m\u001b[0m\u001b[0m\n\u001b[0;32m   3291\u001b[0m     fetched = self._callable_fn(*array_vals,\n\u001b[1;32m-> 3292\u001b[1;33m                                 run_metadata=self.run_metadata)\n\u001b[0m\u001b[0;32m   3293\u001b[0m     \u001b[0mself\u001b[0m\u001b[1;33m.\u001b[0m\u001b[0m_call_fetch_callbacks\u001b[0m\u001b[1;33m(\u001b[0m\u001b[0mfetched\u001b[0m\u001b[1;33m[\u001b[0m\u001b[1;33m-\u001b[0m\u001b[0mlen\u001b[0m\u001b[1;33m(\u001b[0m\u001b[0mself\u001b[0m\u001b[1;33m.\u001b[0m\u001b[0m_fetches\u001b[0m\u001b[1;33m)\u001b[0m\u001b[1;33m:\u001b[0m\u001b[1;33m]\u001b[0m\u001b[1;33m)\u001b[0m\u001b[1;33m\u001b[0m\u001b[0m\n\u001b[0;32m   3294\u001b[0m     output_structure = nest.pack_sequence_as(\n",
      "\u001b[1;32mC:\\Anaconda3\\envs\\UnityML\\lib\\site-packages\\tensorflow\\python\\client\\session.py\u001b[0m in \u001b[0;36m__call__\u001b[1;34m(self, *args, **kwargs)\u001b[0m\n\u001b[0;32m   1456\u001b[0m         ret = tf_session.TF_SessionRunCallable(self._session._session,\n\u001b[0;32m   1457\u001b[0m                                                \u001b[0mself\u001b[0m\u001b[1;33m.\u001b[0m\u001b[0m_handle\u001b[0m\u001b[1;33m,\u001b[0m \u001b[0margs\u001b[0m\u001b[1;33m,\u001b[0m\u001b[1;33m\u001b[0m\u001b[0m\n\u001b[1;32m-> 1458\u001b[1;33m                                                run_metadata_ptr)\n\u001b[0m\u001b[0;32m   1459\u001b[0m         \u001b[1;32mif\u001b[0m \u001b[0mrun_metadata\u001b[0m\u001b[1;33m:\u001b[0m\u001b[1;33m\u001b[0m\u001b[0m\n\u001b[0;32m   1460\u001b[0m           \u001b[0mproto_data\u001b[0m \u001b[1;33m=\u001b[0m \u001b[0mtf_session\u001b[0m\u001b[1;33m.\u001b[0m\u001b[0mTF_GetBuffer\u001b[0m\u001b[1;33m(\u001b[0m\u001b[0mrun_metadata_ptr\u001b[0m\u001b[1;33m)\u001b[0m\u001b[1;33m\u001b[0m\u001b[0m\n",
      "\u001b[1;31mInvalidArgumentError\u001b[0m: You must feed a value for placeholder tensor 'predict_model_2/input_6' with dtype float and shape [?,32,32,3]\n\t [[{{node predict_model_2/input_6}}]]"
     ]
    }
   ],
   "source": [
    "def train():\n",
    "    train_dir_path = work_image_path_list[0].parent/model_type\n",
    "    train_image_path = [path for path in train_dir_path.parent.iterdir() if path.is_file()][0]\n",
    "    \n",
    "    #　使用するデータセットの設定\n",
    "    dataset_name = 'data1'\n",
    "    dataset_dir_path = str(train_dir_path/'tfrecords'/dataset_name)\n",
    "\n",
    "    summary_dir_path = str(train_dir_path/'summary')\n",
    "\n",
    "    load_dir_path = get_load_dir_path()\n",
    "\n",
    "    if load_dir_path:\n",
    "        %run -i C:\\Users\\init\\Documents\\PythonScripts\\EnhanceImageFromUserPreference\\UserPreferencePredictor\\predictor_trainer.py \\\n",
    "            -d $dataset_dir_path -s $summary_dir_path  -l $load_dir_path -t $model_type -j\n",
    "    else:\n",
    "        %run -i C:\\Users\\init\\Documents\\PythonScripts\\EnhanceImageFromUserPreference\\UserPreferencePredictor\\predictor_trainer.py \\\n",
    "            -d $dataset_dir_path -s $summary_dir_path -t $model_type -j\n",
    "        \n",
    "train()"
   ]
  },
  {
   "cell_type": "markdown",
   "metadata": {},
   "source": [
    "# 学習したモデルの読み込み"
   ]
  },
  {
   "cell_type": "code",
   "execution_count": 22,
   "metadata": {},
   "outputs": [
    {
     "name": "stdout",
     "output_type": "stream",
     "text": [
      "load_dir_path: C:/Users/init/Documents/PythonScripts/EnhanceImageFromUserPreference/TrainData/Illust/モネ/1/Compare/summary/0705/1609\n"
     ]
    }
   ],
   "source": [
    "load_dir_path = get_load_dir_path()\n",
    "\n",
    "print(f'load_dir_path: {load_dir_path}')\n",
    "\n",
    "if not load_dir_path:\n",
    "    print('warning: フォルダが選択されていません')"
   ]
  },
  {
   "cell_type": "markdown",
   "metadata": {},
   "source": [
    "## 評価値高い順に並び替え\n",
    "1. 既知画像に対する出力を ' 研究成果/画像/_カテゴリ_/評価値とスコアの比較/既知 ' に保存する\n",
    "2. 未知画像に対する出力を ' 研究成果/画像/_カテゴリ_/評価値とスコアの比較/未知_i ' に保存する"
   ]
  },
  {
   "cell_type": "code",
   "execution_count": 24,
   "metadata": {},
   "outputs": [
    {
     "name": "stdout",
     "output_type": "stream",
     "text": [
      "load_dir_path: C:/Users/init/Documents/PythonScripts/EnhanceImageFromUserPreference/TrainData/Illust/モネ/1/Compare/summary/0705/1609\n",
      "image_path: C:\\Users\\init\\Documents\\PythonScripts\\EnhanceImageFromUserPreference\\TrainData\\Illust\\モネ\\1\\1.A1T1PLop9qL.jpg\n",
      "param_file_path: C:\\Users\\init\\Documents\\PythonScripts\\EnhanceImageFromUserPreference\\TrainData\\Illust\\モネ\\1\\scored_parameter\\test.csv\n",
      "model_type: compare\n"
     ]
    },
    {
     "ename": "AttributeError",
     "evalue": "'Model' object has no attribute 'load'",
     "output_type": "error",
     "traceback": [
      "\u001b[1;31m---------------------------------------------------------------------------\u001b[0m",
      "\u001b[1;31mAttributeError\u001b[0m                            Traceback (most recent call last)",
      "\u001b[1;32m~\\Documents\\PythonScripts\\EnhanceImageFromUserPreference\\UserPreferencePredictor\\evaluate_visualizer.py\u001b[0m in \u001b[0;36m<module>\u001b[1;34m()\u001b[0m\n\u001b[0;32m     47\u001b[0m \u001b[1;33m\u001b[0m\u001b[0m\n\u001b[0;32m     48\u001b[0m     \u001b[1;32mtry\u001b[0m\u001b[1;33m:\u001b[0m\u001b[1;33m\u001b[0m\u001b[0m\n\u001b[1;32m---> 49\u001b[1;33m         \u001b[0mpredict_model\u001b[0m\u001b[1;33m.\u001b[0m\u001b[0mload\u001b[0m\u001b[1;33m(\u001b[0m\u001b[0margs\u001b[0m\u001b[1;33m.\u001b[0m\u001b[0mload_dir_path\u001b[0m\u001b[1;33m)\u001b[0m\u001b[1;33m\u001b[0m\u001b[0m\n\u001b[0m\u001b[0;32m     50\u001b[0m     \u001b[1;32mexcept\u001b[0m \u001b[0mValueError\u001b[0m\u001b[1;33m:\u001b[0m\u001b[1;33m\u001b[0m\u001b[0m\n\u001b[0;32m     51\u001b[0m         \u001b[0mprint\u001b[0m\u001b[1;33m(\u001b[0m\u001b[1;34m'ロードができなかったため終了します'\u001b[0m\u001b[1;33m)\u001b[0m\u001b[1;33m\u001b[0m\u001b[0m\n",
      "\u001b[1;32m~\\Documents\\PythonScripts\\EnhanceImageFromUserPreference\\UserPreferencePredictor\\Model\\Compare\\ranknet.py\u001b[0m in \u001b[0;36mload\u001b[1;34m(self, load_dir_path)\u001b[0m\n\u001b[0;32m     69\u001b[0m                           str(Path(save_dir_path) /\n\u001b[0;32m     70\u001b[0m                               RankNet.PREDICTABLE_MODEL_FILE_NAME)\n\u001b[1;32m---> 71\u001b[1;33m                           )\n\u001b[0m\u001b[0;32m     72\u001b[0m \u001b[1;33m\u001b[0m\u001b[0m\n\u001b[0;32m     73\u001b[0m         self.trainable_model.save_weights(\n",
      "\u001b[1;31mAttributeError\u001b[0m: 'Model' object has no attribute 'load'"
     ]
    },
    {
     "name": "stdout",
     "output_type": "stream",
     "text": [
      "\n"
     ]
    },
    {
     "name": "stderr",
     "output_type": "stream",
     "text": [
      "ERROR:root:File `\"'C:\\\\Users\\\\init\\\\Documents\\\\PythonScripts\\\\EnhanceImageFromUserPreference\\\\UserPreferencePredictor\\\\evaluate_visualizer.py'.py\"` not found.\n"
     ]
    },
    {
     "name": "stdout",
     "output_type": "stream",
     "text": [
      "\n",
      "load_dir_path: C:/Users/init/Documents/PythonScripts/EnhanceImageFromUserPreference/TrainData/Illust/モネ/1/Compare/summary/0705/1609\n",
      "image_path: C:\\Users\\init\\Documents\\PythonScripts\\EnhanceImageFromUserPreference\\TrainData\\Illust\\モネ\\3\\3.000000001420.jpg\n",
      "param_file_path: C:\\Users\\init\\Documents\\PythonScripts\\EnhanceImageFromUserPreference\\TrainData\\Illust\\モネ\\3\\scored_parameter\\test.csv\n",
      "model_type: compare\n"
     ]
    },
    {
     "ename": "AttributeError",
     "evalue": "'Model' object has no attribute 'load'",
     "output_type": "error",
     "traceback": [
      "\u001b[1;31m---------------------------------------------------------------------------\u001b[0m",
      "\u001b[1;31mAttributeError\u001b[0m                            Traceback (most recent call last)",
      "\u001b[1;32m~\\Documents\\PythonScripts\\EnhanceImageFromUserPreference\\UserPreferencePredictor\\evaluate_visualizer.py\u001b[0m in \u001b[0;36m<module>\u001b[1;34m()\u001b[0m\n\u001b[0;32m     47\u001b[0m \u001b[1;33m\u001b[0m\u001b[0m\n\u001b[0;32m     48\u001b[0m     \u001b[1;32mtry\u001b[0m\u001b[1;33m:\u001b[0m\u001b[1;33m\u001b[0m\u001b[0m\n\u001b[1;32m---> 49\u001b[1;33m         \u001b[0mpredict_model\u001b[0m\u001b[1;33m.\u001b[0m\u001b[0mload\u001b[0m\u001b[1;33m(\u001b[0m\u001b[0margs\u001b[0m\u001b[1;33m.\u001b[0m\u001b[0mload_dir_path\u001b[0m\u001b[1;33m)\u001b[0m\u001b[1;33m\u001b[0m\u001b[0m\n\u001b[0m\u001b[0;32m     50\u001b[0m     \u001b[1;32mexcept\u001b[0m \u001b[0mValueError\u001b[0m\u001b[1;33m:\u001b[0m\u001b[1;33m\u001b[0m\u001b[0m\n\u001b[0;32m     51\u001b[0m         \u001b[0mprint\u001b[0m\u001b[1;33m(\u001b[0m\u001b[1;34m'ロードができなかったため終了します'\u001b[0m\u001b[1;33m)\u001b[0m\u001b[1;33m\u001b[0m\u001b[0m\n",
      "\u001b[1;32m~\\Documents\\PythonScripts\\EnhanceImageFromUserPreference\\UserPreferencePredictor\\Model\\Compare\\ranknet.py\u001b[0m in \u001b[0;36mload\u001b[1;34m(self, load_dir_path)\u001b[0m\n\u001b[0;32m     69\u001b[0m                           str(Path(save_dir_path) /\n\u001b[0;32m     70\u001b[0m                               RankNet.PREDICTABLE_MODEL_FILE_NAME)\n\u001b[1;32m---> 71\u001b[1;33m                           )\n\u001b[0m\u001b[0;32m     72\u001b[0m \u001b[1;33m\u001b[0m\u001b[0m\n\u001b[0;32m     73\u001b[0m         self.trainable_model.save_weights(\n",
      "\u001b[1;31mAttributeError\u001b[0m: 'Model' object has no attribute 'load'"
     ]
    },
    {
     "name": "stdout",
     "output_type": "stream",
     "text": [
      "\n"
     ]
    }
   ],
   "source": [
    "for image_path in work_image_path_list:\n",
    "    param_file_path = str(image_path.parent/'scored_parameter'/'test.csv')\n",
    "    %run -i C:\\Users\\init\\Documents\\PythonScripts\\EnhanceImageFromUserPreference\\UserPreferencePredictor\\evaluate_visualizer.py -l $load_dir_path -i $image_path -p $param_file_path -t $model_type\n",
    "    print('')"
   ]
  },
  {
   "cell_type": "markdown",
   "metadata": {},
   "source": [
    "# 最適化\n",
    "1. 既知画像に対する出力を ' 研究成果/画像/_カテゴリ_/最適化/既知 ' に保存する\n",
    "2. 未知画像に対する ' 研究成果/画像/_カテゴリ_/最適化/未知_i ' に保存する"
   ]
  },
  {
   "cell_type": "code",
   "execution_count": 26,
   "metadata": {},
   "outputs": [
    {
     "name": "stdout",
     "output_type": "stream",
     "text": [
      "load_dir_path: C:/Users/init/Documents/PythonScripts/EnhanceImageFromUserPreference/TrainData/Illust/モネ/1/Compare/summary/0705/1609\n",
      "image_path: C:\\Users\\init\\Documents\\PythonScripts\\EnhanceImageFromUserPreference\\TrainData\\Illust\\モネ\\1\\1.A1T1PLop9qL.jpg\n",
      "model_type: compare\n"
     ]
    },
    {
     "ename": "AttributeError",
     "evalue": "'Model' object has no attribute 'load'",
     "output_type": "error",
     "traceback": [
      "\u001b[1;31m---------------------------------------------------------------------------\u001b[0m",
      "\u001b[1;31mAttributeError\u001b[0m                            Traceback (most recent call last)",
      "\u001b[1;32m~\\Documents\\PythonScripts\\EnhanceImageFromUserPreference\\ParameterOptimizer\\main.py\u001b[0m in \u001b[0;36m<module>\u001b[1;34m()\u001b[0m\n\u001b[0;32m     41\u001b[0m         \u001b[0mprint\u001b[0m\u001b[1;33m(\u001b[0m\u001b[1;34mf'{str(arg)}: {str(getattr(args, arg))}'\u001b[0m\u001b[1;33m)\u001b[0m\u001b[1;33m\u001b[0m\u001b[0m\n\u001b[0;32m     42\u001b[0m \u001b[1;33m\u001b[0m\u001b[0m\n\u001b[1;32m---> 43\u001b[1;33m     \u001b[0mmodel\u001b[0m \u001b[1;33m=\u001b[0m \u001b[0m_init_model\u001b[0m\u001b[1;33m(\u001b[0m\u001b[0margs\u001b[0m\u001b[1;33m.\u001b[0m\u001b[0mload_dir_path\u001b[0m\u001b[1;33m,\u001b[0m \u001b[0margs\u001b[0m\u001b[1;33m.\u001b[0m\u001b[0mmodel_type\u001b[0m\u001b[1;33m)\u001b[0m\u001b[1;33m\u001b[0m\u001b[0m\n\u001b[0m\u001b[0;32m     44\u001b[0m     \u001b[0mimage_enhancer\u001b[0m \u001b[1;33m=\u001b[0m \u001b[0mImageEnhancer\u001b[0m\u001b[1;33m(\u001b[0m\u001b[0margs\u001b[0m\u001b[1;33m.\u001b[0m\u001b[0mimage_path\u001b[0m\u001b[1;33m)\u001b[0m\u001b[1;33m\u001b[0m\u001b[0m\n\u001b[0;32m     45\u001b[0m \u001b[1;33m\u001b[0m\u001b[0m\n",
      "\u001b[1;32m~\\Documents\\PythonScripts\\EnhanceImageFromUserPreference\\ParameterOptimizer\\main.py\u001b[0m in \u001b[0;36m_init_model\u001b[1;34m(load_dir_path, model_type)\u001b[0m\n\u001b[0;32m     27\u001b[0m     \u001b[0mmodel\u001b[0m \u001b[1;33m=\u001b[0m \u001b[0mRankNet\u001b[0m\u001b[1;33m(\u001b[0m\u001b[1;33m)\u001b[0m\u001b[1;33m\u001b[0m\u001b[0m\n\u001b[0;32m     28\u001b[0m     \u001b[1;32mtry\u001b[0m\u001b[1;33m:\u001b[0m\u001b[1;33m\u001b[0m\u001b[0m\n\u001b[1;32m---> 29\u001b[1;33m         \u001b[0mmodel\u001b[0m\u001b[1;33m.\u001b[0m\u001b[0mload\u001b[0m\u001b[1;33m(\u001b[0m\u001b[0mload_dir_path\u001b[0m\u001b[1;33m)\u001b[0m\u001b[1;33m\u001b[0m\u001b[0m\n\u001b[0m\u001b[0;32m     30\u001b[0m     \u001b[1;32mexcept\u001b[0m \u001b[0mValueError\u001b[0m\u001b[1;33m:\u001b[0m\u001b[1;33m\u001b[0m\u001b[0m\n\u001b[0;32m     31\u001b[0m         \u001b[0mprint\u001b[0m\u001b[1;33m(\u001b[0m\u001b[1;34m'学習済みモデルをロードできなかったため終了します'\u001b[0m\u001b[1;33m)\u001b[0m\u001b[1;33m\u001b[0m\u001b[0m\n",
      "\u001b[1;32m~\\Documents\\PythonScripts\\EnhanceImageFromUserPreference\\UserPreferencePredictor\\Model\\Compare\\ranknet.py\u001b[0m in \u001b[0;36mload\u001b[1;34m(self, load_dir_path)\u001b[0m\n\u001b[0;32m     69\u001b[0m         self.predictable_model.save_weights(\n\u001b[0;32m     70\u001b[0m             str(Path(save_dir_path) /\n\u001b[1;32m---> 71\u001b[1;33m                 RankNet.PREDICTABLE_MODEL_FILE_NAME)\n\u001b[0m\u001b[0;32m     72\u001b[0m         )\n\u001b[0;32m     73\u001b[0m \u001b[1;33m\u001b[0m\u001b[0m\n",
      "\u001b[1;31mAttributeError\u001b[0m: 'Model' object has no attribute 'load'"
     ]
    },
    {
     "name": "stderr",
     "output_type": "stream",
     "text": [
      "ERROR:root:File `\"'C:\\\\Users\\\\init\\\\Documents\\\\PythonScripts\\\\EnhanceImageFromUserPreference\\\\ParameterOptimizer\\\\main.py'.py\"` not found.\n"
     ]
    },
    {
     "name": "stdout",
     "output_type": "stream",
     "text": [
      "load_dir_path: C:/Users/init/Documents/PythonScripts/EnhanceImageFromUserPreference/TrainData/Illust/モネ/1/Compare/summary/0705/1609\n",
      "image_path: C:\\Users\\init\\Documents\\PythonScripts\\EnhanceImageFromUserPreference\\TrainData\\Illust\\モネ\\3\\3.000000001420.jpg\n",
      "model_type: compare\n"
     ]
    },
    {
     "ename": "AttributeError",
     "evalue": "'Model' object has no attribute 'load'",
     "output_type": "error",
     "traceback": [
      "\u001b[1;31m---------------------------------------------------------------------------\u001b[0m",
      "\u001b[1;31mAttributeError\u001b[0m                            Traceback (most recent call last)",
      "\u001b[1;32m~\\Documents\\PythonScripts\\EnhanceImageFromUserPreference\\ParameterOptimizer\\main.py\u001b[0m in \u001b[0;36m<module>\u001b[1;34m()\u001b[0m\n\u001b[0;32m     41\u001b[0m         \u001b[0mprint\u001b[0m\u001b[1;33m(\u001b[0m\u001b[1;34mf'{str(arg)}: {str(getattr(args, arg))}'\u001b[0m\u001b[1;33m)\u001b[0m\u001b[1;33m\u001b[0m\u001b[0m\n\u001b[0;32m     42\u001b[0m \u001b[1;33m\u001b[0m\u001b[0m\n\u001b[1;32m---> 43\u001b[1;33m     \u001b[0mmodel\u001b[0m \u001b[1;33m=\u001b[0m \u001b[0m_init_model\u001b[0m\u001b[1;33m(\u001b[0m\u001b[0margs\u001b[0m\u001b[1;33m.\u001b[0m\u001b[0mload_dir_path\u001b[0m\u001b[1;33m,\u001b[0m \u001b[0margs\u001b[0m\u001b[1;33m.\u001b[0m\u001b[0mmodel_type\u001b[0m\u001b[1;33m)\u001b[0m\u001b[1;33m\u001b[0m\u001b[0m\n\u001b[0m\u001b[0;32m     44\u001b[0m     \u001b[0mimage_enhancer\u001b[0m \u001b[1;33m=\u001b[0m \u001b[0mImageEnhancer\u001b[0m\u001b[1;33m(\u001b[0m\u001b[0margs\u001b[0m\u001b[1;33m.\u001b[0m\u001b[0mimage_path\u001b[0m\u001b[1;33m)\u001b[0m\u001b[1;33m\u001b[0m\u001b[0m\n\u001b[0;32m     45\u001b[0m \u001b[1;33m\u001b[0m\u001b[0m\n",
      "\u001b[1;32m~\\Documents\\PythonScripts\\EnhanceImageFromUserPreference\\ParameterOptimizer\\main.py\u001b[0m in \u001b[0;36m_init_model\u001b[1;34m(load_dir_path, model_type)\u001b[0m\n\u001b[0;32m     27\u001b[0m     \u001b[0mmodel\u001b[0m \u001b[1;33m=\u001b[0m \u001b[0mRankNet\u001b[0m\u001b[1;33m(\u001b[0m\u001b[1;33m)\u001b[0m\u001b[1;33m\u001b[0m\u001b[0m\n\u001b[0;32m     28\u001b[0m     \u001b[1;32mtry\u001b[0m\u001b[1;33m:\u001b[0m\u001b[1;33m\u001b[0m\u001b[0m\n\u001b[1;32m---> 29\u001b[1;33m         \u001b[0mmodel\u001b[0m\u001b[1;33m.\u001b[0m\u001b[0mload\u001b[0m\u001b[1;33m(\u001b[0m\u001b[0mload_dir_path\u001b[0m\u001b[1;33m)\u001b[0m\u001b[1;33m\u001b[0m\u001b[0m\n\u001b[0m\u001b[0;32m     30\u001b[0m     \u001b[1;32mexcept\u001b[0m \u001b[0mValueError\u001b[0m\u001b[1;33m:\u001b[0m\u001b[1;33m\u001b[0m\u001b[0m\n\u001b[0;32m     31\u001b[0m         \u001b[0mprint\u001b[0m\u001b[1;33m(\u001b[0m\u001b[1;34m'学習済みモデルをロードできなかったため終了します'\u001b[0m\u001b[1;33m)\u001b[0m\u001b[1;33m\u001b[0m\u001b[0m\n",
      "\u001b[1;32m~\\Documents\\PythonScripts\\EnhanceImageFromUserPreference\\UserPreferencePredictor\\Model\\Compare\\ranknet.py\u001b[0m in \u001b[0;36mload\u001b[1;34m(self, load_dir_path)\u001b[0m\n\u001b[0;32m     69\u001b[0m         self.predictable_model.save_weights(\n\u001b[0;32m     70\u001b[0m             str(Path(save_dir_path) /\n\u001b[1;32m---> 71\u001b[1;33m                 RankNet.PREDICTABLE_MODEL_FILE_NAME)\n\u001b[0m\u001b[0;32m     72\u001b[0m         )\n\u001b[0;32m     73\u001b[0m \u001b[1;33m\u001b[0m\u001b[0m\n",
      "\u001b[1;31mAttributeError\u001b[0m: 'Model' object has no attribute 'load'"
     ]
    }
   ],
   "source": [
    "for image_path in work_image_path_list:\n",
    "    image_path = str(image_path)\n",
    "    %run -i C:\\Users\\init\\Documents\\PythonScripts\\EnhanceImageFromUserPreference\\ParameterOptimizer\\main.py -l $load_dir_path -i $image_path -t $model_type"
   ]
  },
  {
   "cell_type": "code",
   "execution_count": null,
   "metadata": {
    "collapsed": true
   },
   "outputs": [],
   "source": []
  }
 ],
 "metadata": {
  "file_extension": ".py",
  "kernelspec": {
   "display_name": "Python 3",
   "language": "python",
   "name": "python3"
  },
  "language_info": {
   "codemirror_mode": {
    "name": "ipython",
    "version": 3
   },
   "file_extension": ".py",
   "mimetype": "text/x-python",
   "name": "python",
   "nbconvert_exporter": "python",
   "pygments_lexer": "ipython3",
   "version": "3.6.4"
  },
  "mimetype": "text/x-python",
  "name": "python",
  "npconvert_exporter": "python",
  "pygments_lexer": "ipython3",
  "version": 3
 },
 "nbformat": 4,
 "nbformat_minor": 2
}
